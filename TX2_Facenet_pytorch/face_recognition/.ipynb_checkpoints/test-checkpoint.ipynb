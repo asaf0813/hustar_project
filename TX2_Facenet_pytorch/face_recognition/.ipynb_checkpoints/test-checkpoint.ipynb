{
 "cells": [
  {
   "cell_type": "code",
   "execution_count": 6,
   "metadata": {
    "scrolled": true
   },
   "outputs": [
    {
     "ename": "ImportError",
     "evalue": "cannot import name 'preprocessing'",
     "output_type": "error",
     "traceback": [
      "\u001b[1;31m---------------------------------------------------------------------------\u001b[0m",
      "\u001b[1;31mImportError\u001b[0m                               Traceback (most recent call last)",
      "\u001b[1;32m<ipython-input-6-ae468ef2cadf>\u001b[0m in \u001b[0;36m<module>\u001b[1;34m\u001b[0m\n\u001b[0;32m      2\u001b[0m \u001b[1;32mfrom\u001b[0m \u001b[0mfacenet_pytorch\u001b[0m \u001b[1;32mimport\u001b[0m \u001b[0mMTCNN\u001b[0m\u001b[1;33m,\u001b[0m \u001b[0mInceptionResnetV1\u001b[0m\u001b[1;33m\u001b[0m\u001b[1;33m\u001b[0m\u001b[0m\n\u001b[0;32m      3\u001b[0m \u001b[1;32mfrom\u001b[0m \u001b[0mtorchvision\u001b[0m \u001b[1;32mimport\u001b[0m \u001b[0mtransforms\u001b[0m\u001b[1;33m\u001b[0m\u001b[1;33m\u001b[0m\u001b[0m\n\u001b[1;32m----> 4\u001b[1;33m \u001b[1;32mfrom\u001b[0m \u001b[1;33m.\u001b[0m \u001b[1;32mimport\u001b[0m \u001b[0mpreprocessing\u001b[0m\u001b[1;33m\u001b[0m\u001b[1;33m\u001b[0m\u001b[0m\n\u001b[0m\u001b[0;32m      5\u001b[0m \u001b[1;32mfrom\u001b[0m \u001b[0mfacenet_pytorch\u001b[0m\u001b[1;33m.\u001b[0m\u001b[0mmodels\u001b[0m\u001b[1;33m.\u001b[0m\u001b[0mutils\u001b[0m\u001b[1;33m.\u001b[0m\u001b[0mdetect_face\u001b[0m \u001b[1;32mimport\u001b[0m \u001b[0mextract_face\u001b[0m\u001b[1;33m\u001b[0m\u001b[1;33m\u001b[0m\u001b[0m\n\u001b[0;32m      6\u001b[0m \u001b[1;33m\u001b[0m\u001b[0m\n",
      "\u001b[1;31mImportError\u001b[0m: cannot import name 'preprocessing'"
     ]
    }
   ],
   "source": [
    "#face extractor\n",
    "import torch\n",
    "from facenet_pytorch import MTCNN, InceptionResnetV1\n",
    "from torchvision import transforms\n",
    "from . import preprocessing\n",
    "from facenet_pytorch.models.utils.detect_face import extract_face\n",
    "\n",
    "if torch.cuda.is_available():\n",
    "    device = torch.device('cuda')\n",
    "else:\n",
    "    device = torch.device('cpu')\n",
    "\n",
    "class FaceFeaturesExtractor:\n",
    "    def __init__(self):\n",
    "        self.aligner = MTCNN(prewhiten=False, keep_all=True, thresholds=[0.6, 0.7, 0.9],device=device)\n",
    "        self.facenet_preprocess = transforms.Compose([preprocessing.Whitening()])\n",
    "        self.facenet = InceptionResnetV1(pretrained='casia-webface').eval()\n",
    "\n",
    "    def extract_features(self, img):\n",
    "        bbs, _ = self.aligner.detect(img)\n",
    "        if bbs is None:\n",
    "            # if no face is detected\n",
    "            return None, None\n",
    "        faces = []\n",
    "        for bb in bbs:\n",
    "            faces.append(extract_face(img, bb))\n",
    "        faces = torch.stack(faces)\n",
    "        # faces = torch.stack([extract_face(img, bb) for bb in bbs]).to(device)\n",
    "        embeddings = self.facenet(self.facenet_preprocess(faces)).detach().numpy()\n",
    "\n",
    "        return bbs, embeddings\n",
    "\n",
    "    def __call__(self, img):\n",
    "        return self.extract_features(img)\n"
   ]
  },
  {
   "cell_type": "code",
   "execution_count": 9,
   "metadata": {},
   "outputs": [
    {
     "name": "stdout",
     "output_type": "stream",
     "text": [
      "['C:\\\\Users\\\\SEI\\\\Anaconda3\\\\envs\\\\comv', 'C:\\\\Users\\\\SEI\\\\Anaconda3\\\\envs\\\\comv\\\\lib\\\\site-packages']\n"
     ]
    }
   ],
   "source": [
    "import site\n",
    "\n",
    "print (site.getsitepackages())"
   ]
  }
 ],
 "metadata": {
  "kernelspec": {
   "display_name": "Python 3",
   "language": "python",
   "name": "python3"
  },
  "language_info": {
   "codemirror_mode": {
    "name": "ipython",
    "version": 3
   },
   "file_extension": ".py",
   "mimetype": "text/x-python",
   "name": "python",
   "nbconvert_exporter": "python",
   "pygments_lexer": "ipython3",
   "version": "3.6.9"
  }
 },
 "nbformat": 4,
 "nbformat_minor": 4
}
