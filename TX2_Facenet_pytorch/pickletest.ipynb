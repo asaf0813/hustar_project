{
 "cells": [
  {
   "cell_type": "code",
   "execution_count": 37,
   "metadata": {},
   "outputs": [],
   "source": [
    "import joblib\n",
    "import face_recognition\n",
    "from face_recognition import preprocessing\n",
    "from PIL import Image"
   ]
  },
  {
   "cell_type": "code",
   "execution_count": 20,
   "metadata": {},
   "outputs": [
    {
     "name": "stdout",
     "output_type": "stream",
     "text": [
      "<class 'face_recognition.face_recogniser.FaceRecogniser'>\n",
      "<bound method FaceRecogniser.recognise_faces of <face_recognition.face_recogniser.FaceRecogniser object at 0x000002CCD8E59FD0>>\n"
     ]
    }
   ],
   "source": [
    "file_name = 'face_recogniser.pkl' \n",
    "\n",
    "obj=joblib.load(\"C:/Users/SEI/Hustar_project_happy/face-recognition-master/model/\"+ file_name) \n",
    "\n",
    "print(type(obj))\n",
    "\n",
    "print(obj.recognise_faces)"
   ]
  },
  {
   "cell_type": "code",
   "execution_count": 40,
   "metadata": {},
   "outputs": [
    {
     "name": "stdout",
     "output_type": "stream",
     "text": [
      "<class 'PIL.Image.Image'>\n",
      "[Face(top_prediction=Prediction(label='세연', confidence=0.9305100842164167), bb=BoundingBox(left=516.1136029213667, top=686.7752133980393, right=1383.5449725836515, bottom=1768.2244359180331), all_predictions=[Prediction(label='동준', confidence=0.02654038741611898), Prediction(label='세연', confidence=0.9305100842164167), Prediction(label='재윤', confidence=0.033971466580875714), Prediction(label='재하', confidence=0.008978061786588748)])]\n"
     ]
    }
   ],
   "source": [
    "img = Image.open(\"images/세연/sei.jpg\")\n",
    "preprocess = preprocessing.ExifOrientationNormalize()\n",
    "img = preprocess(img)\n",
    "#img.show()\n",
    "print(type(img))\n",
    "print(obj.__call__(img))"
   ]
  }
 ],
 "metadata": {
  "kernelspec": {
   "display_name": "Python 3",
   "language": "python",
   "name": "python3"
  },
  "language_info": {
   "codemirror_mode": {
    "name": "ipython",
    "version": 3
   },
   "file_extension": ".py",
   "mimetype": "text/x-python",
   "name": "python",
   "nbconvert_exporter": "python",
   "pygments_lexer": "ipython3",
   "version": "3.6.9"
  }
 },
 "nbformat": 4,
 "nbformat_minor": 4
}
